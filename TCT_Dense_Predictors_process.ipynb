{
 "cells": [
  {
   "cell_type": "markdown",
   "id": "f4da0037-a027-438e-aef6-a9e2597966e9",
   "metadata": {
    "scrolled": true
   },
   "source": [
    "# Coherence-based QPP Predictors for Dense Retrieval"
   ]
  },
  {
   "cell_type": "markdown",
   "id": "0a85e9e1-9685-43d5-bab1-3ee35907511f",
   "metadata": {},
   "source": [
    "##### TCT-ColBERT full process"
   ]
  },
  {
   "cell_type": "markdown",
   "id": "afd4e9a4-82ff-4085-ae59-f04493d3346d",
   "metadata": {},
   "source": [
    "In this notebook, we demonstrate how we obtain our results for the QPP Dense Coherence-based predictors, namely pairRatio and A-pairRatio. We have obtained the retrieval results files for the TCT-ColBERT retrieval method, as seen below. However, the reader can produce their own results files and replace the corresponding csv files in the arguments."
   ]
  },
  {
   "cell_type": "markdown",
   "id": "b2f3beec-a62b-4946-af65-2af263dd5092",
   "metadata": {},
   "source": [
    "First, install pyterrier_dr from https://github.com/terrierteam/pyterrier_dr/tree/master. "
   ]
  },
  {
   "cell_type": "code",
   "execution_count": null,
   "id": "c65c90ca-7f95-48ae-954d-8b21461a6d45",
   "metadata": {},
   "outputs": [],
   "source": [
    "%pip install --force-reinstall --no-deps git+https://github.com/terrierteam/pyterrier_dr.git@docids"
   ]
  },
  {
   "cell_type": "code",
   "execution_count": null,
   "id": "d634ab4d-1a98-44ee-89b4-d92dac4eaac1",
   "metadata": {},
   "outputs": [],
   "source": [
    "# %pip install 'numpy<2'"
   ]
  },
  {
   "cell_type": "code",
   "execution_count": null,
   "id": "f5034628-f9be-46eb-8691-6ab2c86a5d46",
   "metadata": {},
   "outputs": [],
   "source": [
    "%pip install -q sentence_transformers"
   ]
  },
  {
   "cell_type": "code",
   "execution_count": 1,
   "id": "informal-senior",
   "metadata": {},
   "outputs": [],
   "source": [
    "import os\n",
    "os.environ[\"TOKENIZERS_PARALLELISM\"] = \"false\""
   ]
  },
  {
   "cell_type": "markdown",
   "id": "52786a90-1bc8-446a-a2bd-b4a7e110c622",
   "metadata": {},
   "source": [
    "Make sure you have installed the latest version of pyterrier."
   ]
  },
  {
   "cell_type": "code",
   "execution_count": 2,
   "id": "048820ca-b2b8-44c1-a29c-bb6671e1f081",
   "metadata": {},
   "outputs": [
    {
     "name": "stderr",
     "output_type": "stream",
     "text": [
      "/opt/miniconda3/envs/genir/lib/python3.9/site-packages/tqdm/auto.py:21: TqdmWarning: IProgress not found. Please update jupyter and ipywidgets. See https://ipywidgets.readthedocs.io/en/stable/user_install.html\n",
      "  from .autonotebook import tqdm as notebook_tqdm\n",
      "PyTerrier 0.10.1 has loaded Terrier 5.9 (built by craigm on 2024-05-02 17:40) and terrier-helper 0.0.8\n",
      "\n",
      "No etc/terrier.properties, using terrier.default.properties for bootstrap configuration.\n"
     ]
    }
   ],
   "source": [
    "#%pip install --upgrade git+https://github.com/terrier-org/pyterrier.git\n",
    "import pyterrier as pt\n",
    "pt.init()"
   ]
  },
  {
   "cell_type": "code",
   "execution_count": null,
   "id": "4c897619-48fb-4182-aaad-d99c3de8798a",
   "metadata": {},
   "outputs": [],
   "source": [
    "#pt.__version__"
   ]
  },
  {
   "cell_type": "code",
   "execution_count": null,
   "id": "9faa94e1-c344-4db5-8cdb-3653e6a08dc6",
   "metadata": {},
   "outputs": [],
   "source": [
    "#%conda install -c pytorch faiss-gpu"
   ]
  },
  {
   "cell_type": "code",
   "execution_count": 5,
   "id": "atlantic-absolute",
   "metadata": {},
   "outputs": [],
   "source": [
    "import pyterrier_dr"
   ]
  },
  {
   "cell_type": "markdown",
   "id": "23e9d03e-4829-4311-be14-660c06805f18",
   "metadata": {},
   "source": [
    "Here, we define the retrieval model using the corresponding index for TCT (please check that you have put the right index before proceeding)."
   ]
  },
  {
   "cell_type": "code",
   "execution_count": 6,
   "id": "5254c6e4-dbe1-4c05-84cb-d148f8623f0a",
   "metadata": {},
   "outputs": [
    {
     "name": "stderr",
     "output_type": "stream",
     "text": [
      "/opt/miniconda3/envs/genir/lib/python3.9/site-packages/torch/cuda/__init__.py:141: UserWarning: CUDA initialization: The NVIDIA driver on your system is too old (found version 11040). Please update your GPU driver by downloading and installing a new version from the URL: http://www.nvidia.com/Download/index.aspx Alternatively, go to: https://pytorch.org to install a PyTorch version that has been compiled with your version of the CUDA driver. (Triggered internally at ../c10/cuda/CUDAFunctions.cpp:108.)\n",
      "  return torch._C._cuda_getDeviceCount() > 0\n"
     ]
    }
   ],
   "source": [
    "model = pyterrier_dr.TctColBert('castorini/tct_colbert-v2-hnp-msmarco')\n",
    "index = pyterrier_dr.NumpyIndex(\"/nfs/global_indices/msmarco-passage.tct-hnp\", docids=True)\n",
    "retr_pipeline = model >> index"
   ]
  },
  {
   "cell_type": "code",
   "execution_count": 10,
   "id": "stable-working",
   "metadata": {},
   "outputs": [
    {
     "data": {
      "text/plain": [
       "True"
      ]
     },
     "execution_count": 10,
     "metadata": {},
     "output_type": "execute_result"
    }
   ],
   "source": [
    "index.docids"
   ]
  },
  {
   "cell_type": "code",
   "execution_count": 11,
   "id": "baadc800-bc0b-4bda-a2ce-73a80e88746b",
   "metadata": {},
   "outputs": [],
   "source": [
    "def get_embs(row):\n",
    "    return index.docnos_and_data()[1][row.docid]"
   ]
  },
  {
   "cell_type": "markdown",
   "id": "b3dbe315-b900-499a-a284-fa5581f313be",
   "metadata": {},
   "source": [
    "Install required libraries."
   ]
  },
  {
   "cell_type": "code",
   "execution_count": 12,
   "id": "considered-notice",
   "metadata": {},
   "outputs": [],
   "source": [
    "import pandas as pd\n",
    "import numpy as np\n",
    "import torch\n",
    "from scipy import stats\n",
    "from scipy.stats import spearmanr,kendalltau\n",
    "from scipy.spatial.distance import cdist\n",
    "from sklearn.metrics.pairwise import cosine_similarity\n",
    "from scipy.spatial import distance_matrix\n",
    "from math import sqrt, log\n",
    "from pyterrier.measures import *\n",
    "from sklearn.cluster import KMeans\n",
    "from sklearn.decomposition import PCA"
   ]
  },
  {
   "cell_type": "markdown",
   "id": "floating-association",
   "metadata": {},
   "source": [
    "## Get Exp_Results"
   ]
  },
  {
   "cell_type": "markdown",
   "id": "56833241-4941-4dc8-bb86-9d4b39e02f98",
   "metadata": {},
   "source": [
    "We get the experimental results with all three evaluation metrics for the TREC DL datasets."
   ]
  },
  {
   "cell_type": "code",
   "execution_count": 16,
   "id": "50027724-30a8-44ad-bc85-ab783d179bfc",
   "metadata": {},
   "outputs": [],
   "source": [
    "dataset = pt.get_dataset('trec-deep-learning-passages')"
   ]
  },
  {
   "cell_type": "code",
   "execution_count": 34,
   "id": "aware-amendment",
   "metadata": {},
   "outputs": [],
   "source": [
    "per_query_results = pt.Experiment(\n",
    "    [retr_pipeline],\n",
    "    dataset.get_topics(\"test-2019\"),\n",
    "    dataset.get_qrels(\"test-2019\"),\n",
    "    [MAP(rel=2)@100, nDCG@10, RR(rel=2)@10],\n",
    "    perquery=True, filter_by_qrels=True,\n",
    ")"
   ]
  },
  {
   "cell_type": "code",
   "execution_count": 47,
   "id": "4097e3f2-1487-465d-af19-993b371aa9f2",
   "metadata": {},
   "outputs": [
    {
     "data": {
      "text/html": [
       "<div>\n",
       "<style scoped>\n",
       "    .dataframe tbody tr th:only-of-type {\n",
       "        vertical-align: middle;\n",
       "    }\n",
       "\n",
       "    .dataframe tbody tr th {\n",
       "        vertical-align: top;\n",
       "    }\n",
       "\n",
       "    .dataframe thead th {\n",
       "        text-align: right;\n",
       "    }\n",
       "</style>\n",
       "<table border=\"1\" class=\"dataframe\">\n",
       "  <thead>\n",
       "    <tr style=\"text-align: right;\">\n",
       "      <th></th>\n",
       "      <th>name</th>\n",
       "      <th>qid</th>\n",
       "      <th>measure</th>\n",
       "      <th>value</th>\n",
       "    </tr>\n",
       "  </thead>\n",
       "  <tbody>\n",
       "    <tr>\n",
       "      <th>27</th>\n",
       "      <td>Compose(&lt;pyterrier_dr.tctcolbert_model.TctColB...</td>\n",
       "      <td>1037798</td>\n",
       "      <td>nDCG@10</td>\n",
       "      <td>0.370031</td>\n",
       "    </tr>\n",
       "    <tr>\n",
       "      <th>28</th>\n",
       "      <td>Compose(&lt;pyterrier_dr.tctcolbert_model.TctColB...</td>\n",
       "      <td>1037798</td>\n",
       "      <td>AP(rel=2)@100</td>\n",
       "      <td>0.178571</td>\n",
       "    </tr>\n",
       "    <tr>\n",
       "      <th>29</th>\n",
       "      <td>Compose(&lt;pyterrier_dr.tctcolbert_model.TctColB...</td>\n",
       "      <td>1037798</td>\n",
       "      <td>RR(rel=2)@10</td>\n",
       "      <td>1.000000</td>\n",
       "    </tr>\n",
       "    <tr>\n",
       "      <th>63</th>\n",
       "      <td>Compose(&lt;pyterrier_dr.tctcolbert_model.TctColB...</td>\n",
       "      <td>104861</td>\n",
       "      <td>nDCG@10</td>\n",
       "      <td>1.000000</td>\n",
       "    </tr>\n",
       "    <tr>\n",
       "      <th>64</th>\n",
       "      <td>Compose(&lt;pyterrier_dr.tctcolbert_model.TctColB...</td>\n",
       "      <td>104861</td>\n",
       "      <td>AP(rel=2)@100</td>\n",
       "      <td>0.514095</td>\n",
       "    </tr>\n",
       "  </tbody>\n",
       "</table>\n",
       "</div>"
      ],
      "text/plain": [
       "                                                 name      qid        measure  \\\n",
       "27  Compose(<pyterrier_dr.tctcolbert_model.TctColB...  1037798        nDCG@10   \n",
       "28  Compose(<pyterrier_dr.tctcolbert_model.TctColB...  1037798  AP(rel=2)@100   \n",
       "29  Compose(<pyterrier_dr.tctcolbert_model.TctColB...  1037798   RR(rel=2)@10   \n",
       "63  Compose(<pyterrier_dr.tctcolbert_model.TctColB...   104861        nDCG@10   \n",
       "64  Compose(<pyterrier_dr.tctcolbert_model.TctColB...   104861  AP(rel=2)@100   \n",
       "\n",
       "       value  \n",
       "27  0.370031  \n",
       "28  0.178571  \n",
       "29  1.000000  \n",
       "63  1.000000  \n",
       "64  0.514095  "
      ]
     },
     "execution_count": 47,
     "metadata": {},
     "output_type": "execute_result"
    }
   ],
   "source": [
    "per_query_results.head()"
   ]
  },
  {
   "cell_type": "code",
   "execution_count": 48,
   "id": "progressive-cassette",
   "metadata": {},
   "outputs": [],
   "source": [
    "per_query_results_2020 = pt.Experiment(\n",
    "    [retr_pipeline],\n",
    "    dataset.get_topics(\"test-2020\"),\n",
    "    dataset.get_qrels(\"test-2020\"),\n",
    "    [MAP(rel=2)@100, nDCG@10, RR(rel=2)@10],\n",
    "    perquery=True, filter_by_qrels=True,\n",
    ")"
   ]
  },
  {
   "cell_type": "markdown",
   "id": "directed-murray",
   "metadata": {},
   "source": [
    "## Get Test Topics"
   ]
  },
  {
   "cell_type": "markdown",
   "id": "71bb07cd-11c7-40e6-b856-8860f2fd4811",
   "metadata": {},
   "source": [
    "Get query sets as follows:"
   ]
  },
  {
   "cell_type": "code",
   "execution_count": 49,
   "id": "studied-payment",
   "metadata": {},
   "outputs": [
    {
     "data": {
      "text/html": [
       "<div>\n",
       "<style scoped>\n",
       "    .dataframe tbody tr th:only-of-type {\n",
       "        vertical-align: middle;\n",
       "    }\n",
       "\n",
       "    .dataframe tbody tr th {\n",
       "        vertical-align: top;\n",
       "    }\n",
       "\n",
       "    .dataframe thead th {\n",
       "        text-align: right;\n",
       "    }\n",
       "</style>\n",
       "<table border=\"1\" class=\"dataframe\">\n",
       "  <thead>\n",
       "    <tr style=\"text-align: right;\">\n",
       "      <th></th>\n",
       "      <th>qid</th>\n",
       "      <th>query</th>\n",
       "    </tr>\n",
       "  </thead>\n",
       "  <tbody>\n",
       "    <tr>\n",
       "      <th>0</th>\n",
       "      <td>156493</td>\n",
       "      <td>do goldfish grow</td>\n",
       "    </tr>\n",
       "    <tr>\n",
       "      <th>1</th>\n",
       "      <td>1110199</td>\n",
       "      <td>what is wifi vs bluetooth</td>\n",
       "    </tr>\n",
       "    <tr>\n",
       "      <th>2</th>\n",
       "      <td>1063750</td>\n",
       "      <td>why did the us volunterilay enter ww1</td>\n",
       "    </tr>\n",
       "    <tr>\n",
       "      <th>3</th>\n",
       "      <td>130510</td>\n",
       "      <td>definition declaratory judgment</td>\n",
       "    </tr>\n",
       "    <tr>\n",
       "      <th>4</th>\n",
       "      <td>489204</td>\n",
       "      <td>right pelvic pain causes</td>\n",
       "    </tr>\n",
       "  </tbody>\n",
       "</table>\n",
       "</div>"
      ],
      "text/plain": [
       "       qid                                  query\n",
       "0   156493                       do goldfish grow\n",
       "1  1110199              what is wifi vs bluetooth\n",
       "2  1063750  why did the us volunterilay enter ww1\n",
       "3   130510        definition declaratory judgment\n",
       "4   489204               right pelvic pain causes"
      ]
     },
     "execution_count": 49,
     "metadata": {},
     "output_type": "execute_result"
    }
   ],
   "source": [
    "test_topics = dataset.get_topics(\"test-2019\").merge(dataset.get_qrels(\"test-2019\")[['qid']].drop_duplicates())\n",
    "test_topics.head()"
   ]
  },
  {
   "cell_type": "code",
   "execution_count": 50,
   "id": "lasting-crossing",
   "metadata": {},
   "outputs": [],
   "source": [
    "test_topics_2020 = dataset.get_topics(\"test-2020\").merge(dataset.get_qrels(\"test-2020\")[['qid']].drop_duplicates())"
   ]
  },
  {
   "cell_type": "markdown",
   "id": "defensive-angel",
   "metadata": {},
   "source": [
    "Define our Retrieval Pipeline"
   ]
  },
  {
   "cell_type": "code",
   "execution_count": 25,
   "id": "other-teach",
   "metadata": {},
   "outputs": [],
   "source": [
    "new_pipe = retr_pipeline >> pt.apply.doc_embs(get_embs) >> pt.text.get_text(pt.get_dataset('irds:msmarco-passage'), 'text')"
   ]
  },
  {
   "cell_type": "markdown",
   "id": "executive-giant",
   "metadata": {},
   "source": [
    "This line adds the embedding vectors to the query sets."
   ]
  },
  {
   "cell_type": "code",
   "execution_count": 45,
   "id": "bibliographic-audience",
   "metadata": {},
   "outputs": [],
   "source": [
    "test_queries = model.transform(test_topics) ###get query embs\n",
    "test_queries_2020 = model.transform(test_topics_2020)"
   ]
  },
  {
   "cell_type": "markdown",
   "id": "76c25f15-7f22-4040-a62e-78283db01449",
   "metadata": {},
   "source": [
    "### Get retrieved results using our pipeline."
   ]
  },
  {
   "cell_type": "code",
   "execution_count": 52,
   "id": "4f18897f-628d-493f-b80c-3492a9e99db4",
   "metadata": {},
   "outputs": [],
   "source": [
    "new_pipe_100 = (retr_pipeline % 100) >> pt.apply.doc_embs(get_embs) >> pt.text.get_text(pt.get_dataset('irds:msmarco-passage'), 'text')\n",
    "all_res_embs_100 = new_pipe_100.transform(test_topics)\n",
    "combined_100 = test_queries.merge(all_res_embs_100)"
   ]
  },
  {
   "cell_type": "markdown",
   "id": "d6f82e6a-c235-40f7-88ae-f30208b8c90d",
   "metadata": {},
   "source": [
    "This is how the final retrieved results look like: Doc_embs are the document embedded representations of the per query retrieved documents, while query_vec is the embedded representation of each query."
   ]
  },
  {
   "cell_type": "code",
   "execution_count": 53,
   "id": "cc97cc5e-2ab6-4148-8ccf-569f7db10424",
   "metadata": {},
   "outputs": [
    {
     "data": {
      "text/html": [
       "<div>\n",
       "<style scoped>\n",
       "    .dataframe tbody tr th:only-of-type {\n",
       "        vertical-align: middle;\n",
       "    }\n",
       "\n",
       "    .dataframe tbody tr th {\n",
       "        vertical-align: top;\n",
       "    }\n",
       "\n",
       "    .dataframe thead th {\n",
       "        text-align: right;\n",
       "    }\n",
       "</style>\n",
       "<table border=\"1\" class=\"dataframe\">\n",
       "  <thead>\n",
       "    <tr style=\"text-align: right;\">\n",
       "      <th></th>\n",
       "      <th>qid</th>\n",
       "      <th>query</th>\n",
       "      <th>query_vec</th>\n",
       "      <th>docno</th>\n",
       "      <th>score</th>\n",
       "      <th>docid</th>\n",
       "      <th>rank</th>\n",
       "      <th>doc_embs</th>\n",
       "      <th>text</th>\n",
       "    </tr>\n",
       "  </thead>\n",
       "  <tbody>\n",
       "    <tr>\n",
       "      <th>0</th>\n",
       "      <td>156493</td>\n",
       "      <td>do goldfish grow</td>\n",
       "      <td>[0.09275106, 0.31872433, 0.20686068, -0.016680...</td>\n",
       "      <td>2928707</td>\n",
       "      <td>81.193695</td>\n",
       "      <td>2928707</td>\n",
       "      <td>0</td>\n",
       "      <td>[0.100064516, 0.19567434, 0.30560207, -0.01379...</td>\n",
       "      <td>Goldfish Only Grow to the Size of Their Enclos...</td>\n",
       "    </tr>\n",
       "    <tr>\n",
       "      <th>1</th>\n",
       "      <td>156493</td>\n",
       "      <td>do goldfish grow</td>\n",
       "      <td>[0.09275106, 0.31872433, 0.20686068, -0.016680...</td>\n",
       "      <td>1960257</td>\n",
       "      <td>81.051804</td>\n",
       "      <td>1960257</td>\n",
       "      <td>1</td>\n",
       "      <td>[0.08526538, 0.21067119, 0.3275369, -0.0055650...</td>\n",
       "      <td>Goldfish Only Grow to the Size of Their Enclos...</td>\n",
       "    </tr>\n",
       "    <tr>\n",
       "      <th>2</th>\n",
       "      <td>156493</td>\n",
       "      <td>do goldfish grow</td>\n",
       "      <td>[0.09275106, 0.31872433, 0.20686068, -0.016680...</td>\n",
       "      <td>1960255</td>\n",
       "      <td>81.024101</td>\n",
       "      <td>1960255</td>\n",
       "      <td>2</td>\n",
       "      <td>[0.07921311, 0.20023422, 0.24291284, 0.0113921...</td>\n",
       "      <td>Rating Newest Oldest. Best Answer: Goldfish do...</td>\n",
       "    </tr>\n",
       "    <tr>\n",
       "      <th>3</th>\n",
       "      <td>156493</td>\n",
       "      <td>do goldfish grow</td>\n",
       "      <td>[0.09275106, 0.31872433, 0.20686068, -0.016680...</td>\n",
       "      <td>8182162</td>\n",
       "      <td>80.989685</td>\n",
       "      <td>8182162</td>\n",
       "      <td>3</td>\n",
       "      <td>[0.050824236, 0.21521352, 0.31407806, -0.07441...</td>\n",
       "      <td>Depending on his type and his environment, gol...</td>\n",
       "    </tr>\n",
       "    <tr>\n",
       "      <th>4</th>\n",
       "      <td>156493</td>\n",
       "      <td>do goldfish grow</td>\n",
       "      <td>[0.09275106, 0.31872433, 0.20686068, -0.016680...</td>\n",
       "      <td>2612493</td>\n",
       "      <td>80.742928</td>\n",
       "      <td>2612493</td>\n",
       "      <td>4</td>\n",
       "      <td>[0.09987633, 0.18474764, 0.25994685, -0.015145...</td>\n",
       "      <td>In clean, uncrowded conditions in tanks or pon...</td>\n",
       "    </tr>\n",
       "  </tbody>\n",
       "</table>\n",
       "</div>"
      ],
      "text/plain": [
       "      qid             query  \\\n",
       "0  156493  do goldfish grow   \n",
       "1  156493  do goldfish grow   \n",
       "2  156493  do goldfish grow   \n",
       "3  156493  do goldfish grow   \n",
       "4  156493  do goldfish grow   \n",
       "\n",
       "                                           query_vec    docno      score  \\\n",
       "0  [0.09275106, 0.31872433, 0.20686068, -0.016680...  2928707  81.193695   \n",
       "1  [0.09275106, 0.31872433, 0.20686068, -0.016680...  1960257  81.051804   \n",
       "2  [0.09275106, 0.31872433, 0.20686068, -0.016680...  1960255  81.024101   \n",
       "3  [0.09275106, 0.31872433, 0.20686068, -0.016680...  8182162  80.989685   \n",
       "4  [0.09275106, 0.31872433, 0.20686068, -0.016680...  2612493  80.742928   \n",
       "\n",
       "     docid  rank                                           doc_embs  \\\n",
       "0  2928707     0  [0.100064516, 0.19567434, 0.30560207, -0.01379...   \n",
       "1  1960257     1  [0.08526538, 0.21067119, 0.3275369, -0.0055650...   \n",
       "2  1960255     2  [0.07921311, 0.20023422, 0.24291284, 0.0113921...   \n",
       "3  8182162     3  [0.050824236, 0.21521352, 0.31407806, -0.07441...   \n",
       "4  2612493     4  [0.09987633, 0.18474764, 0.25994685, -0.015145...   \n",
       "\n",
       "                                                text  \n",
       "0  Goldfish Only Grow to the Size of Their Enclos...  \n",
       "1  Goldfish Only Grow to the Size of Their Enclos...  \n",
       "2  Rating Newest Oldest. Best Answer: Goldfish do...  \n",
       "3  Depending on his type and his environment, gol...  \n",
       "4  In clean, uncrowded conditions in tanks or pon...  "
      ]
     },
     "execution_count": 53,
     "metadata": {},
     "output_type": "execute_result"
    }
   ],
   "source": [
    "combined_100.head()"
   ]
  },
  {
   "cell_type": "markdown",
   "id": "67dc028a-5c4b-467b-a2dd-9defc61a04e0",
   "metadata": {},
   "source": [
    "### Dense Coherence-based QPP predictors: Calculation"
   ]
  },
  {
   "cell_type": "markdown",
   "id": "3e245d10-5ec3-4fbe-9968-3f66a48a4d52",
   "metadata": {},
   "source": [
    "Now, we show how we calculate our proposed predictors. First, we define a function for pairRatio."
   ]
  },
  {
   "cell_type": "code",
   "execution_count": 38,
   "id": "ca3e3ac1-c4ca-4f6e-9cf8-e77810fec166",
   "metadata": {},
   "outputs": [],
   "source": [
    "def pair_ratio(df_embs, lim_1, lim_2, lim_3, measure_x, per_query_res):\n",
    "    rows = []\n",
    "    \n",
    "    for qid, group in pt.tqdm(df_embs.groupby('qid'), unit='q'):\n",
    "        embs_list = np.vstack(group.doc_embs.tolist())\n",
    "        W_mat = pd.DataFrame(cosine_similarity(embs_list,dense_output=True))\n",
    "        mean_top = W_mat.iloc[0:lim_1, 0:lim_1].values.mean()\n",
    "        mean_bottom = W_mat.iloc[lim_2:lim_3, lim_2:lim_3].values.mean()\n",
    "        mean_vs = mean_top/mean_bottom\n",
    "        rows.append([qid,mean_vs])\n",
    "    df_sim = pd.DataFrame(rows, columns=['qid', 'mean_vs'])\n",
    "    merged = df_sim.merge(per_query_res, on = 'qid')\n",
    "    merged = merged[merged.measure==measure_x]\n",
    "    #corr_pearson = stats.pearsonr(merged['value'], merged['mean_vs'])[0]\n",
    "    #corr_spearman = spearmanr(merged['value'], merged['mean_vs']).correlation\n",
    "    corr_kendall = kendalltau(merged['value'], merged['mean_vs'])\n",
    "    print (corr_kendall)"
   ]
  },
  {
   "cell_type": "markdown",
   "id": "6b39d584-a644-4c42-b6aa-ee4b6a64b38c",
   "metadata": {},
   "source": [
    "In the above function, lim_3 corresponds to the rank cutoff of the retrieved results, lim_1 is where the upper matrix stops, and lim_2 is where the lower matrix starts. For measure_x, replace with the metric of interest from the per_query_results, choose AP(rel=2)@100, nDCG@10, or RR(rel=2)@10. "
   ]
  },
  {
   "cell_type": "markdown",
   "id": "6ddf79d4-0f04-41ec-8433-277e8b55a458",
   "metadata": {},
   "source": [
    "Test pairRatio: Here we use AP@100 for a cutoff at rank 100. Replace with other metrics to see what happens to NDCG@1- and MRR@10, or cutoffs by adjusting the limits. You can also use the results for TREC DL20 using per_query_results_2020. To get a different correlation metric, simply uncomment the lines for pearson and spearman's correlation."
   ]
  },
  {
   "cell_type": "markdown",
   "id": "829f6e42-054d-40d5-8c8d-c5443c554514",
   "metadata": {},
   "source": [
    "Here, we demonstrate a test with a rank cutoff of 100. For a top-50 results list, the corresponding lim_1 and lim_2 will be in intervals of 5 from 5 to 35, while lim_3 would be 50."
   ]
  },
  {
   "cell_type": "code",
   "execution_count": 39,
   "id": "51af7488-300d-4265-b28f-3117c0c0f559",
   "metadata": {},
   "outputs": [
    {
     "name": "stdout",
     "output_type": "stream",
     "text": [
      "lim1 10\n",
      "lim2 10\n"
     ]
    },
    {
     "name": "stderr",
     "output_type": "stream",
     "text": [
      "100%|██████████| 43/43 [00:00<00:00, 1030.32q/s]\n"
     ]
    },
    {
     "name": "stdout",
     "output_type": "stream",
     "text": [
      "SignificanceResult(statistic=0.20265780730897007, pvalue=0.055470577997765856)\n",
      "\n",
      "lim2 20\n"
     ]
    },
    {
     "name": "stderr",
     "output_type": "stream",
     "text": [
      "100%|██████████| 43/43 [00:00<00:00, 1113.58q/s]\n"
     ]
    },
    {
     "name": "stdout",
     "output_type": "stream",
     "text": [
      "SignificanceResult(statistic=0.19379844961240308, pvalue=0.06703361454097385)\n",
      "\n",
      "lim2 30\n"
     ]
    },
    {
     "name": "stderr",
     "output_type": "stream",
     "text": [
      "100%|██████████| 43/43 [00:00<00:00, 1190.69q/s]\n"
     ]
    },
    {
     "name": "stdout",
     "output_type": "stream",
     "text": [
      "SignificanceResult(statistic=0.20265780730897007, pvalue=0.055470577997765856)\n",
      "\n",
      "lim2 40\n"
     ]
    },
    {
     "name": "stderr",
     "output_type": "stream",
     "text": [
      "100%|██████████| 43/43 [00:00<00:00, 1199.07q/s]\n"
     ]
    },
    {
     "name": "stdout",
     "output_type": "stream",
     "text": [
      "SignificanceResult(statistic=0.20265780730897007, pvalue=0.055470577997765856)\n",
      "\n",
      "lim2 50\n"
     ]
    },
    {
     "name": "stderr",
     "output_type": "stream",
     "text": [
      "100%|██████████| 43/43 [00:00<00:00, 1192.39q/s]\n"
     ]
    },
    {
     "name": "stdout",
     "output_type": "stream",
     "text": [
      "SignificanceResult(statistic=0.19822812846068658, pvalue=0.06102555232367203)\n",
      "\n",
      "lim2 60\n"
     ]
    },
    {
     "name": "stderr",
     "output_type": "stream",
     "text": [
      "100%|██████████| 43/43 [00:00<00:00, 1183.18q/s]\n"
     ]
    },
    {
     "name": "stdout",
     "output_type": "stream",
     "text": [
      "SignificanceResult(statistic=0.17829457364341084, pvalue=0.09200155630483083)\n",
      "\n",
      "lim2 70\n"
     ]
    },
    {
     "name": "stderr",
     "output_type": "stream",
     "text": [
      "100%|██████████| 43/43 [00:00<00:00, 1193.80q/s]\n"
     ]
    },
    {
     "name": "stdout",
     "output_type": "stream",
     "text": [
      "SignificanceResult(statistic=0.16722037652270208, pvalue=0.11404310198857621)\n",
      "\n",
      "lim2 80\n"
     ]
    },
    {
     "name": "stderr",
     "output_type": "stream",
     "text": [
      "100%|██████████| 43/43 [00:00<00:00, 1208.56q/s]\n"
     ]
    },
    {
     "name": "stdout",
     "output_type": "stream",
     "text": [
      "SignificanceResult(statistic=0.1627906976744186, pvalue=0.12394673344282209)\n",
      "\n",
      "lim2 90\n"
     ]
    },
    {
     "name": "stderr",
     "output_type": "stream",
     "text": [
      "100%|██████████| 43/43 [00:00<00:00, 1209.07q/s]\n"
     ]
    },
    {
     "name": "stdout",
     "output_type": "stream",
     "text": [
      "SignificanceResult(statistic=0.17386489479512734, pvalue=0.1003682399820881)\n",
      "\n",
      "lim1 20\n",
      "lim2 10\n"
     ]
    },
    {
     "name": "stderr",
     "output_type": "stream",
     "text": [
      "100%|██████████| 43/43 [00:00<00:00, 1207.45q/s]\n"
     ]
    },
    {
     "name": "stdout",
     "output_type": "stream",
     "text": [
      "SignificanceResult(statistic=0.15614617940199335, pvalue=0.14004478013981814)\n",
      "\n",
      "lim2 20\n"
     ]
    },
    {
     "name": "stderr",
     "output_type": "stream",
     "text": [
      "100%|██████████| 43/43 [00:00<00:00, 1190.86q/s]\n"
     ]
    },
    {
     "name": "stdout",
     "output_type": "stream",
     "text": [
      "SignificanceResult(statistic=0.1583610188261351, pvalue=0.1345090520109157)\n",
      "\n",
      "lim2 30\n"
     ]
    },
    {
     "name": "stderr",
     "output_type": "stream",
     "text": [
      "100%|██████████| 43/43 [00:00<00:00, 1192.92q/s]\n"
     ]
    },
    {
     "name": "stdout",
     "output_type": "stream",
     "text": [
      "SignificanceResult(statistic=0.14285714285714285, pvalue=0.17700339443308466)\n",
      "\n",
      "lim2 40\n"
     ]
    },
    {
     "name": "stderr",
     "output_type": "stream",
     "text": [
      "100%|██████████| 43/43 [00:00<00:00, 1191.39q/s]\n"
     ]
    },
    {
     "name": "stdout",
     "output_type": "stream",
     "text": [
      "SignificanceResult(statistic=0.1539313399778516, pvalue=0.1457541464430843)\n",
      "\n",
      "lim2 50\n"
     ]
    },
    {
     "name": "stderr",
     "output_type": "stream",
     "text": [
      "100%|██████████| 43/43 [00:00<00:00, 1040.74q/s]\n"
     ]
    },
    {
     "name": "stdout",
     "output_type": "stream",
     "text": [
      "SignificanceResult(statistic=0.1539313399778516, pvalue=0.1457541464430843)\n",
      "\n",
      "lim2 60\n"
     ]
    },
    {
     "name": "stderr",
     "output_type": "stream",
     "text": [
      "100%|██████████| 43/43 [00:00<00:00, 1199.58q/s]\n"
     ]
    },
    {
     "name": "stdout",
     "output_type": "stream",
     "text": [
      "SignificanceResult(statistic=0.1450719822812846, pvalue=0.1703842810882269)\n",
      "\n",
      "lim2 70\n"
     ]
    },
    {
     "name": "stderr",
     "output_type": "stream",
     "text": [
      "100%|██████████| 43/43 [00:00<00:00, 1202.60q/s]\n"
     ]
    },
    {
     "name": "stdout",
     "output_type": "stream",
     "text": [
      "SignificanceResult(statistic=0.16943521594684385, pvalue=0.10933056125598256)\n",
      "\n",
      "lim2 80\n"
     ]
    },
    {
     "name": "stderr",
     "output_type": "stream",
     "text": [
      "100%|██████████| 43/43 [00:00<00:00, 1205.82q/s]\n"
     ]
    },
    {
     "name": "stdout",
     "output_type": "stream",
     "text": [
      "SignificanceResult(statistic=0.13399778516057584, pvalue=0.20540001319103585)\n",
      "\n",
      "lim2 90\n"
     ]
    },
    {
     "name": "stderr",
     "output_type": "stream",
     "text": [
      "100%|██████████| 43/43 [00:00<00:00, 1209.20q/s]\n"
     ]
    },
    {
     "name": "stdout",
     "output_type": "stream",
     "text": [
      "SignificanceResult(statistic=0.13842746400885936, pvalue=0.19081309011196146)\n",
      "\n",
      "lim1 30\n",
      "lim2 10\n"
     ]
    },
    {
     "name": "stderr",
     "output_type": "stream",
     "text": [
      "100%|██████████| 43/43 [00:00<00:00, 1206.09q/s]\n"
     ]
    },
    {
     "name": "stdout",
     "output_type": "stream",
     "text": [
      "SignificanceResult(statistic=0.1317829457364341, pvalue=0.21299024938601496)\n",
      "\n",
      "lim2 20\n"
     ]
    },
    {
     "name": "stderr",
     "output_type": "stream",
     "text": [
      "100%|██████████| 43/43 [00:00<00:00, 1210.63q/s]\n"
     ]
    },
    {
     "name": "stdout",
     "output_type": "stream",
     "text": [
      "SignificanceResult(statistic=0.1406423034330011, pvalue=0.18381220775928653)\n",
      "\n",
      "lim2 30\n"
     ]
    },
    {
     "name": "stderr",
     "output_type": "stream",
     "text": [
      "100%|██████████| 43/43 [00:00<00:00, 1202.98q/s]\n"
     ]
    },
    {
     "name": "stdout",
     "output_type": "stream",
     "text": [
      "SignificanceResult(statistic=0.1317829457364341, pvalue=0.21299024938601496)\n",
      "\n",
      "lim2 40\n"
     ]
    },
    {
     "name": "stderr",
     "output_type": "stream",
     "text": [
      "100%|██████████| 43/43 [00:00<00:00, 1193.44q/s]\n"
     ]
    },
    {
     "name": "stdout",
     "output_type": "stream",
     "text": [
      "SignificanceResult(statistic=0.1317829457364341, pvalue=0.21299024938601496)\n",
      "\n",
      "lim2 50\n"
     ]
    },
    {
     "name": "stderr",
     "output_type": "stream",
     "text": [
      "100%|██████████| 43/43 [00:00<00:00, 1213.38q/s]\n"
     ]
    },
    {
     "name": "stdout",
     "output_type": "stream",
     "text": [
      "SignificanceResult(statistic=0.12956810631229235, pvalue=0.22078093380603558)\n",
      "\n",
      "lim2 60\n"
     ]
    },
    {
     "name": "stderr",
     "output_type": "stream",
     "text": [
      "100%|██████████| 43/43 [00:00<00:00, 1208.36q/s]\n"
     ]
    },
    {
     "name": "stdout",
     "output_type": "stream",
     "text": [
      "SignificanceResult(statistic=0.1184939091915836, pvalue=0.2627990015663074)\n",
      "\n",
      "lim2 70\n"
     ]
    },
    {
     "name": "stderr",
     "output_type": "stream",
     "text": [
      "100%|██████████| 43/43 [00:00<00:00, 1210.06q/s]\n"
     ]
    },
    {
     "name": "stdout",
     "output_type": "stream",
     "text": [
      "SignificanceResult(statistic=0.1362126245847176, pvalue=0.19800830674339343)\n",
      "\n",
      "lim2 80\n"
     ]
    },
    {
     "name": "stderr",
     "output_type": "stream",
     "text": [
      "100%|██████████| 43/43 [00:00<00:00, 1212.74q/s]\n"
     ]
    },
    {
     "name": "stdout",
     "output_type": "stream",
     "text": [
      "SignificanceResult(statistic=0.12070874861572535, pvalue=0.2539819504245272)\n",
      "\n",
      "lim2 90\n"
     ]
    },
    {
     "name": "stderr",
     "output_type": "stream",
     "text": [
      "100%|██████████| 43/43 [00:00<00:00, 1213.16q/s]\n"
     ]
    },
    {
     "name": "stdout",
     "output_type": "stream",
     "text": [
      "SignificanceResult(statistic=0.10741971207087486, pvalue=0.3100363372653202)\n",
      "\n",
      "lim1 40\n",
      "lim2 10\n"
     ]
    },
    {
     "name": "stderr",
     "output_type": "stream",
     "text": [
      "100%|██████████| 43/43 [00:00<00:00, 1203.23q/s]\n"
     ]
    },
    {
     "name": "stdout",
     "output_type": "stream",
     "text": [
      "SignificanceResult(statistic=0.14728682170542634, pvalue=0.1639524008255926)\n",
      "\n",
      "lim2 20\n"
     ]
    },
    {
     "name": "stderr",
     "output_type": "stream",
     "text": [
      "100%|██████████| 43/43 [00:00<00:00, 1204.25q/s]\n"
     ]
    },
    {
     "name": "stdout",
     "output_type": "stream",
     "text": [
      "SignificanceResult(statistic=0.1406423034330011, pvalue=0.18381220775928653)\n",
      "\n",
      "lim2 30\n"
     ]
    },
    {
     "name": "stderr",
     "output_type": "stream",
     "text": [
      "100%|██████████| 43/43 [00:00<00:00, 1207.23q/s]\n"
     ]
    },
    {
     "name": "stdout",
     "output_type": "stream",
     "text": [
      "SignificanceResult(statistic=0.1317829457364341, pvalue=0.21299024938601496)\n",
      "\n",
      "lim2 40\n"
     ]
    },
    {
     "name": "stderr",
     "output_type": "stream",
     "text": [
      "100%|██████████| 43/43 [00:00<00:00, 1202.29q/s]\n"
     ]
    },
    {
     "name": "stdout",
     "output_type": "stream",
     "text": [
      "SignificanceResult(statistic=0.12513842746400886, pvalue=0.23697067930681837)\n",
      "\n",
      "lim2 50\n"
     ]
    },
    {
     "name": "stderr",
     "output_type": "stream",
     "text": [
      "100%|██████████| 43/43 [00:00<00:00, 1195.29q/s]\n"
     ]
    },
    {
     "name": "stdout",
     "output_type": "stream",
     "text": [
      "SignificanceResult(statistic=0.1229235880398671, pvalue=0.2453729183587694)\n",
      "\n",
      "lim2 60\n"
     ]
    },
    {
     "name": "stderr",
     "output_type": "stream",
     "text": [
      "100%|██████████| 43/43 [00:00<00:00, 1196.69q/s]\n"
     ]
    },
    {
     "name": "stdout",
     "output_type": "stream",
     "text": [
      "SignificanceResult(statistic=0.10299003322259136, pvalue=0.3304121188571688)\n",
      "\n",
      "lim2 70\n"
     ]
    },
    {
     "name": "stderr",
     "output_type": "stream",
     "text": [
      "100%|██████████| 43/43 [00:00<00:00, 1202.29q/s]\n"
     ]
    },
    {
     "name": "stdout",
     "output_type": "stream",
     "text": [
      "SignificanceResult(statistic=0.10741971207087486, pvalue=0.3100363372653202)\n",
      "\n",
      "lim2 80\n"
     ]
    },
    {
     "name": "stderr",
     "output_type": "stream",
     "text": [
      "100%|██████████| 43/43 [00:00<00:00, 1203.03q/s]\n"
     ]
    },
    {
     "name": "stdout",
     "output_type": "stream",
     "text": [
      "SignificanceResult(statistic=0.10963455149501661, pvalue=0.3001663937035294)\n",
      "\n",
      "lim2 90\n"
     ]
    },
    {
     "name": "stderr",
     "output_type": "stream",
     "text": [
      "100%|██████████| 43/43 [00:00<00:00, 1217.41q/s]\n"
     ]
    },
    {
     "name": "stdout",
     "output_type": "stream",
     "text": [
      "SignificanceResult(statistic=0.09856035437430785, pvalue=0.35163509508635105)\n",
      "\n",
      "lim1 50\n",
      "lim2 10\n"
     ]
    },
    {
     "name": "stderr",
     "output_type": "stream",
     "text": [
      "100%|██████████| 43/43 [00:00<00:00, 1202.97q/s]\n"
     ]
    },
    {
     "name": "stdout",
     "output_type": "stream",
     "text": [
      "SignificanceResult(statistic=0.10963455149501661, pvalue=0.3001663937035294)\n",
      "\n",
      "lim2 20\n"
     ]
    },
    {
     "name": "stderr",
     "output_type": "stream",
     "text": [
      "100%|██████████| 43/43 [00:00<00:00, 1207.53q/s]\n"
     ]
    },
    {
     "name": "stdout",
     "output_type": "stream",
     "text": [
      "SignificanceResult(statistic=0.1273532668881506, pvalue=0.22877385768686798)\n",
      "\n",
      "lim2 30\n"
     ]
    },
    {
     "name": "stderr",
     "output_type": "stream",
     "text": [
      "100%|██████████| 43/43 [00:00<00:00, 1208.30q/s]\n"
     ]
    },
    {
     "name": "stdout",
     "output_type": "stream",
     "text": [
      "SignificanceResult(statistic=0.1140642303433001, pvalue=0.2810612862169707)\n",
      "\n",
      "lim2 40\n"
     ]
    },
    {
     "name": "stderr",
     "output_type": "stream",
     "text": [
      "100%|██████████| 43/43 [00:00<00:00, 1210.69q/s]\n"
     ]
    },
    {
     "name": "stdout",
     "output_type": "stream",
     "text": [
      "SignificanceResult(statistic=0.10741971207087486, pvalue=0.3100363372653202)\n",
      "\n",
      "lim2 50\n"
     ]
    },
    {
     "name": "stderr",
     "output_type": "stream",
     "text": [
      "100%|██████████| 43/43 [00:00<00:00, 1214.09q/s]\n"
     ]
    },
    {
     "name": "stdout",
     "output_type": "stream",
     "text": [
      "SignificanceResult(statistic=0.10520487264673312, pvalue=0.3201182320001086)\n",
      "\n",
      "lim2 60\n"
     ]
    },
    {
     "name": "stderr",
     "output_type": "stream",
     "text": [
      "100%|██████████| 43/43 [00:00<00:00, 1203.39q/s]\n"
     ]
    },
    {
     "name": "stdout",
     "output_type": "stream",
     "text": [
      "SignificanceResult(statistic=0.08305647840531562, pvalue=0.4325083682789408)\n",
      "\n",
      "lim2 70\n"
     ]
    },
    {
     "name": "stderr",
     "output_type": "stream",
     "text": [
      "100%|██████████| 43/43 [00:00<00:00, 1208.33q/s]\n"
     ]
    },
    {
     "name": "stdout",
     "output_type": "stream",
     "text": [
      "SignificanceResult(statistic=0.08527131782945736, pvalue=0.42033662205299704)\n",
      "\n",
      "lim2 80\n"
     ]
    },
    {
     "name": "stderr",
     "output_type": "stream",
     "text": [
      "100%|██████████| 43/43 [00:00<00:00, 1207.14q/s]\n"
     ]
    },
    {
     "name": "stdout",
     "output_type": "stream",
     "text": [
      "SignificanceResult(statistic=0.09191583610188261, pvalue=0.3850495934739234)\n",
      "\n",
      "lim2 90\n"
     ]
    },
    {
     "name": "stderr",
     "output_type": "stream",
     "text": [
      "100%|██████████| 43/43 [00:00<00:00, 1209.36q/s]"
     ]
    },
    {
     "name": "stdout",
     "output_type": "stream",
     "text": [
      "SignificanceResult(statistic=0.11627906976744184, pvalue=0.2718251430502646)\n",
      "\n",
      "lim1 60\n",
      "lim2 10\n"
     ]
    },
    {
     "name": "stderr",
     "output_type": "stream",
     "text": [
      "\n",
      "100%|██████████| 43/43 [00:00<00:00, 1200.45q/s]\n"
     ]
    },
    {
     "name": "stdout",
     "output_type": "stream",
     "text": [
      "SignificanceResult(statistic=0.11184939091915835, pvalue=0.29050817751372915)\n",
      "\n",
      "lim2 20\n"
     ]
    },
    {
     "name": "stderr",
     "output_type": "stream",
     "text": [
      "100%|██████████| 43/43 [00:00<00:00, 1205.13q/s]\n"
     ]
    },
    {
     "name": "stdout",
     "output_type": "stream",
     "text": [
      "SignificanceResult(statistic=0.12513842746400886, pvalue=0.23697067930681837)\n",
      "\n",
      "lim2 30\n"
     ]
    },
    {
     "name": "stderr",
     "output_type": "stream",
     "text": [
      "100%|██████████| 43/43 [00:00<00:00, 1191.64q/s]\n"
     ]
    },
    {
     "name": "stdout",
     "output_type": "stream",
     "text": [
      "SignificanceResult(statistic=0.0963455149501661, pvalue=0.3625633178937435)\n",
      "\n",
      "lim2 40\n"
     ]
    },
    {
     "name": "stderr",
     "output_type": "stream",
     "text": [
      "100%|██████████| 43/43 [00:00<00:00, 1196.72q/s]\n"
     ]
    },
    {
     "name": "stdout",
     "output_type": "stream",
     "text": [
      "SignificanceResult(statistic=0.08748615725359911, pvalue=0.4083684458435356)\n",
      "\n",
      "lim2 50\n"
     ]
    },
    {
     "name": "stderr",
     "output_type": "stream",
     "text": [
      "100%|██████████| 43/43 [00:00<00:00, 1071.35q/s]\n"
     ]
    },
    {
     "name": "stdout",
     "output_type": "stream",
     "text": [
      "SignificanceResult(statistic=0.08970099667774085, pvalue=0.3966055892323337)\n",
      "\n",
      "lim2 60\n"
     ]
    },
    {
     "name": "stderr",
     "output_type": "stream",
     "text": [
      "100%|██████████| 43/43 [00:00<00:00, 1199.25q/s]\n"
     ]
    },
    {
     "name": "stdout",
     "output_type": "stream",
     "text": [
      "SignificanceResult(statistic=0.06090808416389811, pvalue=0.5648868466104321)\n",
      "\n",
      "lim2 70\n"
     ]
    },
    {
     "name": "stderr",
     "output_type": "stream",
     "text": [
      "100%|██████████| 43/43 [00:00<00:00, 1203.77q/s]\n"
     ]
    },
    {
     "name": "stdout",
     "output_type": "stream",
     "text": [
      "SignificanceResult(statistic=0.06533776301218161, pvalue=0.5369314822780484)\n",
      "\n",
      "lim2 80\n"
     ]
    },
    {
     "name": "stderr",
     "output_type": "stream",
     "text": [
      "100%|██████████| 43/43 [00:00<00:00, 1210.45q/s]\n"
     ]
    },
    {
     "name": "stdout",
     "output_type": "stream",
     "text": [
      "SignificanceResult(statistic=0.07641196013289035, pvalue=0.470224382087596)\n",
      "\n",
      "lim2 90\n"
     ]
    },
    {
     "name": "stderr",
     "output_type": "stream",
     "text": [
      "100%|██████████| 43/43 [00:00<00:00, 1207.22q/s]\n"
     ]
    },
    {
     "name": "stdout",
     "output_type": "stream",
     "text": [
      "SignificanceResult(statistic=0.08970099667774085, pvalue=0.3966055892323337)\n",
      "\n",
      "lim1 70\n",
      "lim2 10\n"
     ]
    },
    {
     "name": "stderr",
     "output_type": "stream",
     "text": [
      "100%|██████████| 43/43 [00:00<00:00, 1203.45q/s]\n"
     ]
    },
    {
     "name": "stdout",
     "output_type": "stream",
     "text": [
      "SignificanceResult(statistic=0.14285714285714285, pvalue=0.17700339443308466)\n",
      "\n",
      "lim2 20\n"
     ]
    },
    {
     "name": "stderr",
     "output_type": "stream",
     "text": [
      "100%|██████████| 43/43 [00:00<00:00, 1212.08q/s]\n"
     ]
    },
    {
     "name": "stdout",
     "output_type": "stream",
     "text": [
      "SignificanceResult(statistic=0.1539313399778516, pvalue=0.1457541464430843)\n",
      "\n",
      "lim2 30\n"
     ]
    },
    {
     "name": "stderr",
     "output_type": "stream",
     "text": [
      "100%|██████████| 43/43 [00:00<00:00, 1212.89q/s]\n"
     ]
    },
    {
     "name": "stdout",
     "output_type": "stream",
     "text": [
      "SignificanceResult(statistic=0.10520487264673312, pvalue=0.3201182320001086)\n",
      "\n",
      "lim2 40\n"
     ]
    },
    {
     "name": "stderr",
     "output_type": "stream",
     "text": [
      "100%|██████████| 43/43 [00:00<00:00, 1208.81q/s]\n"
     ]
    },
    {
     "name": "stdout",
     "output_type": "stream",
     "text": [
      "SignificanceResult(statistic=0.10963455149501661, pvalue=0.3001663937035294)\n",
      "\n",
      "lim2 50\n"
     ]
    },
    {
     "name": "stderr",
     "output_type": "stream",
     "text": [
      "100%|██████████| 43/43 [00:00<00:00, 1195.52q/s]\n"
     ]
    },
    {
     "name": "stdout",
     "output_type": "stream",
     "text": [
      "SignificanceResult(statistic=0.09856035437430785, pvalue=0.35163509508635105)\n",
      "\n",
      "lim2 60\n"
     ]
    },
    {
     "name": "stderr",
     "output_type": "stream",
     "text": [
      "100%|██████████| 43/43 [00:00<00:00, 1193.10q/s]\n"
     ]
    },
    {
     "name": "stdout",
     "output_type": "stream",
     "text": [
      "SignificanceResult(statistic=0.08305647840531562, pvalue=0.4325083682789408)\n",
      "\n",
      "lim2 70\n"
     ]
    },
    {
     "name": "stderr",
     "output_type": "stream",
     "text": [
      "100%|██████████| 43/43 [00:00<00:00, 718.00q/s]\n"
     ]
    },
    {
     "name": "stdout",
     "output_type": "stream",
     "text": [
      "SignificanceResult(statistic=0.08084163898117386, pvalue=0.44488172534138504)\n",
      "\n",
      "lim2 80\n"
     ]
    },
    {
     "name": "stderr",
     "output_type": "stream",
     "text": [
      "100%|██████████| 43/43 [00:00<00:00, 1182.53q/s]\n"
     ]
    },
    {
     "name": "stdout",
     "output_type": "stream",
     "text": [
      "SignificanceResult(statistic=0.07641196013289035, pvalue=0.470224382087596)\n",
      "\n",
      "lim2 90\n"
     ]
    },
    {
     "name": "stderr",
     "output_type": "stream",
     "text": [
      "100%|██████████| 43/43 [00:00<00:00, 1196.04q/s]\n"
     ]
    },
    {
     "name": "stdout",
     "output_type": "stream",
     "text": [
      "SignificanceResult(statistic=0.08748615725359911, pvalue=0.4083684458435356)\n",
      "\n",
      "lim1 80\n",
      "lim2 10\n"
     ]
    },
    {
     "name": "stderr",
     "output_type": "stream",
     "text": [
      "100%|██████████| 43/43 [00:00<00:00, 1195.10q/s]\n"
     ]
    },
    {
     "name": "stdout",
     "output_type": "stream",
     "text": [
      "SignificanceResult(statistic=0.1184939091915836, pvalue=0.2627990015663074)\n",
      "\n",
      "lim2 20\n"
     ]
    },
    {
     "name": "stderr",
     "output_type": "stream",
     "text": [
      "100%|██████████| 43/43 [00:00<00:00, 1197.40q/s]\n"
     ]
    },
    {
     "name": "stdout",
     "output_type": "stream",
     "text": [
      "SignificanceResult(statistic=0.1273532668881506, pvalue=0.22877385768686798)\n",
      "\n",
      "lim2 30\n"
     ]
    },
    {
     "name": "stderr",
     "output_type": "stream",
     "text": [
      "100%|██████████| 43/43 [00:00<00:00, 1194.40q/s]\n"
     ]
    },
    {
     "name": "stdout",
     "output_type": "stream",
     "text": [
      "SignificanceResult(statistic=0.1140642303433001, pvalue=0.2810612862169707)\n",
      "\n",
      "lim2 40\n"
     ]
    },
    {
     "name": "stderr",
     "output_type": "stream",
     "text": [
      "100%|██████████| 43/43 [00:00<00:00, 1200.74q/s]\n"
     ]
    },
    {
     "name": "stdout",
     "output_type": "stream",
     "text": [
      "SignificanceResult(statistic=0.11627906976744184, pvalue=0.2718251430502646)\n",
      "\n",
      "lim2 50\n"
     ]
    },
    {
     "name": "stderr",
     "output_type": "stream",
     "text": [
      "100%|██████████| 43/43 [00:00<00:00, 1205.98q/s]\n"
     ]
    },
    {
     "name": "stdout",
     "output_type": "stream",
     "text": [
      "SignificanceResult(statistic=0.1184939091915836, pvalue=0.2627990015663074)\n",
      "\n",
      "lim2 60\n"
     ]
    },
    {
     "name": "stderr",
     "output_type": "stream",
     "text": [
      "100%|██████████| 43/43 [00:00<00:00, 1208.21q/s]\n"
     ]
    },
    {
     "name": "stdout",
     "output_type": "stream",
     "text": [
      "SignificanceResult(statistic=0.08527131782945736, pvalue=0.42033662205299704)\n",
      "\n",
      "lim2 70\n"
     ]
    },
    {
     "name": "stderr",
     "output_type": "stream",
     "text": [
      "100%|██████████| 43/43 [00:00<00:00, 1210.13q/s]\n"
     ]
    },
    {
     "name": "stdout",
     "output_type": "stream",
     "text": [
      "SignificanceResult(statistic=0.052048726467331115, pvalue=0.6228078793721249)\n",
      "\n",
      "lim2 80\n"
     ]
    },
    {
     "name": "stderr",
     "output_type": "stream",
     "text": [
      "100%|██████████| 43/43 [00:00<00:00, 1204.66q/s]\n"
     ]
    },
    {
     "name": "stdout",
     "output_type": "stream",
     "text": [
      "SignificanceResult(statistic=0.07641196013289035, pvalue=0.470224382087596)\n",
      "\n",
      "lim2 90\n"
     ]
    },
    {
     "name": "stderr",
     "output_type": "stream",
     "text": [
      "100%|██████████| 43/43 [00:00<00:00, 1209.67q/s]\n"
     ]
    },
    {
     "name": "stdout",
     "output_type": "stream",
     "text": [
      "SignificanceResult(statistic=0.08305647840531562, pvalue=0.4325083682789408)\n",
      "\n"
     ]
    }
   ],
   "source": [
    "for lim1 in [10, 20, 30, 40, 50, 60, 70, 80]:\n",
    "    print(\"lim1 %d\" % lim1)\n",
    "    for lim2 in [10, 20, 30, 40, 50, 60, 70, 80, 90]:\n",
    "        print(\"lim2 %d\" % lim2)\n",
    "        pair_ratio(combined_100, lim1, lim2, 100, 'AP(rel=2)@100', per_query_results)\n",
    "        print(\"\")"
   ]
  },
  {
   "cell_type": "code",
   "execution_count": 42,
   "id": "8ef61243-bcb0-498c-9315-0ae3b45fec41",
   "metadata": {},
   "outputs": [],
   "source": [
    "def adjusted_pair_ratio(df_embs, lim_1, lim_2, lim_3, measure_x, per_query_res):\n",
    "    rows = []\n",
    "    \n",
    "    for qid, group in pt.tqdm(df_embs.groupby('qid'), unit='q'):\n",
    "        embs_list = np.vstack(group.doc_embs.tolist())\n",
    "        query_embs = group.iloc[0].query_vec\n",
    "        score_list = group.score\n",
    "        W_mat = cosine_similarity(embs_list,dense_output=True)\n",
    "        score_exp = np.expand_dims(score_list,axis=1)\n",
    "        pair_mat = np.dot(score_exp,score_exp.T)\n",
    "        weighted_mat = W_mat@pair_mat\n",
    "        W_mat_new = pd.DataFrame(weighted_mat)\n",
    "        mean_top = W_mat_new.iloc[0:lim_1, 0:lim_1].values.mean()\n",
    "        mean_bottom = W_mat_new.iloc[lim_2:lim_3, lim_2:lim_3].values.mean()\n",
    "        mean_vs = mean_top/mean_bottom\n",
    "        rows.append([qid,mean_vs])   \n",
    "    df_sim = pd.DataFrame(rows, columns=['qid', 'mean_vs'])\n",
    "    merged = df_sim.merge(per_query_res, on = 'qid')\n",
    "    merged = merged[merged.measure==measure_x]\n",
    "    #corr_person = stats.pearsonr(merged['value'], merged['mean_vs'])[0]\n",
    "    #corr_spearman = spearmanr(merged['value'], merged['mean_vs']).correlation\n",
    "    corr_kendall = kendalltau(merged['value'], merged['mean_vs'])\n",
    "    print(corr_kendall)"
   ]
  },
  {
   "cell_type": "markdown",
   "id": "6208ada5-0f80-40c1-a491-ce2dc3afd365",
   "metadata": {},
   "source": [
    "Test A-pairRatio in a similar way as pairRatio above."
   ]
  },
  {
   "cell_type": "code",
   "execution_count": 43,
   "id": "12ea0f58-2129-4e3f-a60d-3c1b4bef79d1",
   "metadata": {},
   "outputs": [
    {
     "name": "stdout",
     "output_type": "stream",
     "text": [
      "lim1 10\n",
      "lim2 10\n"
     ]
    },
    {
     "name": "stderr",
     "output_type": "stream",
     "text": [
      "100%|██████████| 43/43 [00:00<00:00, 609.07q/s]\n"
     ]
    },
    {
     "name": "stdout",
     "output_type": "stream",
     "text": [
      "SignificanceResult(statistic=0.26688815060908083, pvalue=0.011663453960855275)\n",
      "\n",
      "lim2 20\n"
     ]
    },
    {
     "name": "stderr",
     "output_type": "stream",
     "text": [
      "100%|██████████| 43/43 [00:00<00:00, 552.16q/s]\n"
     ]
    },
    {
     "name": "stdout",
     "output_type": "stream",
     "text": [
      "SignificanceResult(statistic=0.2757475083056478, pvalue=0.009163596363952935)\n",
      "\n",
      "lim2 30\n"
     ]
    },
    {
     "name": "stderr",
     "output_type": "stream",
     "text": [
      "100%|██████████| 43/43 [00:00<00:00, 513.17q/s]\n"
     ]
    },
    {
     "name": "stdout",
     "output_type": "stream",
     "text": [
      "SignificanceResult(statistic=0.2646733111849391, pvalue=0.012376084980840824)\n",
      "\n",
      "lim2 40\n"
     ]
    },
    {
     "name": "stderr",
     "output_type": "stream",
     "text": [
      "100%|██████████| 43/43 [00:00<00:00, 537.38q/s]\n"
     ]
    },
    {
     "name": "stdout",
     "output_type": "stream",
     "text": [
      "SignificanceResult(statistic=0.25802879291251385, pvalue=0.014750685638928979)\n",
      "\n",
      "lim2 50\n"
     ]
    },
    {
     "name": "stderr",
     "output_type": "stream",
     "text": [
      "100%|██████████| 43/43 [00:00<00:00, 527.30q/s]\n"
     ]
    },
    {
     "name": "stdout",
     "output_type": "stream",
     "text": [
      "SignificanceResult(statistic=0.2535991140642303, pvalue=0.01654882193551084)\n",
      "\n",
      "lim2 60\n"
     ]
    },
    {
     "name": "stderr",
     "output_type": "stream",
     "text": [
      "100%|██████████| 43/43 [00:00<00:00, 568.85q/s]\n"
     ]
    },
    {
     "name": "stdout",
     "output_type": "stream",
     "text": [
      "SignificanceResult(statistic=0.2535991140642303, pvalue=0.01654882193551084)\n",
      "\n",
      "lim2 70\n"
     ]
    },
    {
     "name": "stderr",
     "output_type": "stream",
     "text": [
      "100%|██████████| 43/43 [00:00<00:00, 555.05q/s]\n"
     ]
    },
    {
     "name": "stdout",
     "output_type": "stream",
     "text": [
      "SignificanceResult(statistic=0.2535991140642303, pvalue=0.01654882193551084)\n",
      "\n",
      "lim2 80\n"
     ]
    },
    {
     "name": "stderr",
     "output_type": "stream",
     "text": [
      "100%|██████████| 43/43 [00:00<00:00, 552.80q/s]\n"
     ]
    },
    {
     "name": "stdout",
     "output_type": "stream",
     "text": [
      "SignificanceResult(statistic=0.2358803986710963, pvalue=0.025804952455033163)\n",
      "\n",
      "lim2 90\n"
     ]
    },
    {
     "name": "stderr",
     "output_type": "stream",
     "text": [
      "100%|██████████| 43/43 [00:00<00:00, 600.31q/s]\n"
     ]
    },
    {
     "name": "stdout",
     "output_type": "stream",
     "text": [
      "SignificanceResult(statistic=0.24695459579180506, pvalue=0.019606784919992522)\n",
      "\n",
      "lim1 20\n",
      "lim2 10\n"
     ]
    },
    {
     "name": "stderr",
     "output_type": "stream",
     "text": [
      "100%|██████████| 43/43 [00:00<00:00, 556.74q/s]\n"
     ]
    },
    {
     "name": "stdout",
     "output_type": "stream",
     "text": [
      "SignificanceResult(statistic=0.2757475083056478, pvalue=0.009163596363952935)\n",
      "\n",
      "lim2 20\n"
     ]
    },
    {
     "name": "stderr",
     "output_type": "stream",
     "text": [
      "100%|██████████| 43/43 [00:00<00:00, 568.91q/s]\n"
     ]
    },
    {
     "name": "stdout",
     "output_type": "stream",
     "text": [
      "SignificanceResult(statistic=0.2757475083056478, pvalue=0.009163596363952935)\n",
      "\n",
      "lim2 30\n"
     ]
    },
    {
     "name": "stderr",
     "output_type": "stream",
     "text": [
      "100%|██████████| 43/43 [00:00<00:00, 516.78q/s]\n"
     ]
    },
    {
     "name": "stdout",
     "output_type": "stream",
     "text": [
      "SignificanceResult(statistic=0.26245847176079734, pvalue=0.013127016780085222)\n",
      "\n",
      "lim2 40\n"
     ]
    },
    {
     "name": "stderr",
     "output_type": "stream",
     "text": [
      "100%|██████████| 43/43 [00:00<00:00, 511.50q/s]\n"
     ]
    },
    {
     "name": "stdout",
     "output_type": "stream",
     "text": [
      "SignificanceResult(statistic=0.26245847176079734, pvalue=0.013127016780085222)\n",
      "\n",
      "lim2 50\n"
     ]
    },
    {
     "name": "stderr",
     "output_type": "stream",
     "text": [
      "100%|██████████| 43/43 [00:00<00:00, 500.78q/s]\n"
     ]
    },
    {
     "name": "stdout",
     "output_type": "stream",
     "text": [
      "SignificanceResult(statistic=0.2535991140642303, pvalue=0.01654882193551084)\n",
      "\n",
      "lim2 60\n"
     ]
    },
    {
     "name": "stderr",
     "output_type": "stream",
     "text": [
      "100%|██████████| 43/43 [00:00<00:00, 556.95q/s]\n"
     ]
    },
    {
     "name": "stdout",
     "output_type": "stream",
     "text": [
      "SignificanceResult(statistic=0.25138427464008856, pvalue=0.0175180489193538)\n",
      "\n",
      "lim2 70\n"
     ]
    },
    {
     "name": "stderr",
     "output_type": "stream",
     "text": [
      "100%|██████████| 43/43 [00:00<00:00, 447.85q/s]\n"
     ]
    },
    {
     "name": "stdout",
     "output_type": "stream",
     "text": [
      "SignificanceResult(statistic=0.24916943521594684, pvalue=0.01853668656977206)\n",
      "\n",
      "lim2 80\n"
     ]
    },
    {
     "name": "stderr",
     "output_type": "stream",
     "text": [
      "100%|██████████| 43/43 [00:00<00:00, 527.58q/s]\n"
     ]
    },
    {
     "name": "stdout",
     "output_type": "stream",
     "text": [
      "SignificanceResult(statistic=0.24695459579180506, pvalue=0.019606784919992522)\n",
      "\n",
      "lim2 90\n"
     ]
    },
    {
     "name": "stderr",
     "output_type": "stream",
     "text": [
      "100%|██████████| 43/43 [00:00<00:00, 572.55q/s]\n"
     ]
    },
    {
     "name": "stdout",
     "output_type": "stream",
     "text": [
      "SignificanceResult(statistic=0.22259136212624583, pvalue=0.03541776107269042)\n",
      "\n",
      "lim1 30\n",
      "lim2 10\n"
     ]
    },
    {
     "name": "stderr",
     "output_type": "stream",
     "text": [
      "100%|██████████| 43/43 [00:00<00:00, 564.34q/s]\n"
     ]
    },
    {
     "name": "stdout",
     "output_type": "stream",
     "text": [
      "SignificanceResult(statistic=0.22702104097452933, pvalue=0.0319199840249392)\n",
      "\n",
      "lim2 20\n"
     ]
    },
    {
     "name": "stderr",
     "output_type": "stream",
     "text": [
      "100%|██████████| 43/43 [00:00<00:00, 526.06q/s]\n"
     ]
    },
    {
     "name": "stdout",
     "output_type": "stream",
     "text": [
      "SignificanceResult(statistic=0.2336655592469546, pvalue=0.02723007466276913)\n",
      "\n",
      "lim2 30\n"
     ]
    },
    {
     "name": "stderr",
     "output_type": "stream",
     "text": [
      "100%|██████████| 43/43 [00:00<00:00, 567.48q/s]\n"
     ]
    },
    {
     "name": "stdout",
     "output_type": "stream",
     "text": [
      "SignificanceResult(statistic=0.22259136212624583, pvalue=0.03541776107269042)\n",
      "\n",
      "lim2 40\n"
     ]
    },
    {
     "name": "stderr",
     "output_type": "stream",
     "text": [
      "100%|██████████| 43/43 [00:00<00:00, 572.06q/s]\n"
     ]
    },
    {
     "name": "stdout",
     "output_type": "stream",
     "text": [
      "SignificanceResult(statistic=0.22702104097452933, pvalue=0.0319199840249392)\n",
      "\n",
      "lim2 50\n"
     ]
    },
    {
     "name": "stderr",
     "output_type": "stream",
     "text": [
      "100%|██████████| 43/43 [00:00<00:00, 834.65q/s]\n"
     ]
    },
    {
     "name": "stdout",
     "output_type": "stream",
     "text": [
      "SignificanceResult(statistic=0.22702104097452933, pvalue=0.0319199840249392)\n",
      "\n",
      "lim2 60\n"
     ]
    },
    {
     "name": "stderr",
     "output_type": "stream",
     "text": [
      "100%|██████████| 43/43 [00:00<00:00, 933.09q/s]\n"
     ]
    },
    {
     "name": "stdout",
     "output_type": "stream",
     "text": [
      "SignificanceResult(statistic=0.20487264673311184, pvalue=0.052855112350349634)\n",
      "\n",
      "lim2 70\n"
     ]
    },
    {
     "name": "stderr",
     "output_type": "stream",
     "text": [
      "100%|██████████| 43/43 [00:00<00:00, 884.17q/s]\n"
     ]
    },
    {
     "name": "stdout",
     "output_type": "stream",
     "text": [
      "SignificanceResult(statistic=0.21816168327796234, pvalue=0.039237464954529684)\n",
      "\n",
      "lim2 80\n"
     ]
    },
    {
     "name": "stderr",
     "output_type": "stream",
     "text": [
      "100%|██████████| 43/43 [00:00<00:00, 738.94q/s]\n"
     ]
    },
    {
     "name": "stdout",
     "output_type": "stream",
     "text": [
      "SignificanceResult(statistic=0.21151716500553708, pvalue=0.04561968148630561)\n",
      "\n",
      "lim2 90\n"
     ]
    },
    {
     "name": "stderr",
     "output_type": "stream",
     "text": [
      "100%|██████████| 43/43 [00:00<00:00, 511.32q/s]\n"
     ]
    },
    {
     "name": "stdout",
     "output_type": "stream",
     "text": [
      "SignificanceResult(statistic=0.21151716500553708, pvalue=0.04561968148630561)\n",
      "\n",
      "lim1 40\n",
      "lim2 10\n"
     ]
    },
    {
     "name": "stderr",
     "output_type": "stream",
     "text": [
      "100%|██████████| 43/43 [00:00<00:00, 556.25q/s]\n"
     ]
    },
    {
     "name": "stdout",
     "output_type": "stream",
     "text": [
      "SignificanceResult(statistic=0.22923588039867107, pvalue=0.030285059012930795)\n",
      "\n",
      "lim2 20\n"
     ]
    },
    {
     "name": "stderr",
     "output_type": "stream",
     "text": [
      "100%|██████████| 43/43 [00:00<00:00, 595.71q/s]\n"
     ]
    },
    {
     "name": "stdout",
     "output_type": "stream",
     "text": [
      "SignificanceResult(statistic=0.23145071982281282, pvalue=0.02872260880772164)\n",
      "\n",
      "lim2 30\n"
     ]
    },
    {
     "name": "stderr",
     "output_type": "stream",
     "text": [
      "100%|██████████| 43/43 [00:00<00:00, 591.91q/s]\n"
     ]
    },
    {
     "name": "stdout",
     "output_type": "stream",
     "text": [
      "SignificanceResult(statistic=0.22702104097452933, pvalue=0.0319199840249392)\n",
      "\n",
      "lim2 40\n"
     ]
    },
    {
     "name": "stderr",
     "output_type": "stream",
     "text": [
      "100%|██████████| 43/43 [00:00<00:00, 552.99q/s]\n"
     ]
    },
    {
     "name": "stdout",
     "output_type": "stream",
     "text": [
      "SignificanceResult(statistic=0.2336655592469546, pvalue=0.02723007466276913)\n",
      "\n",
      "lim2 50\n"
     ]
    },
    {
     "name": "stderr",
     "output_type": "stream",
     "text": [
      "100%|██████████| 43/43 [00:00<00:00, 721.61q/s]\n"
     ]
    },
    {
     "name": "stdout",
     "output_type": "stream",
     "text": [
      "SignificanceResult(statistic=0.20487264673311184, pvalue=0.052855112350349634)\n",
      "\n",
      "lim2 60\n"
     ]
    },
    {
     "name": "stderr",
     "output_type": "stream",
     "text": [
      "100%|██████████| 43/43 [00:00<00:00, 807.11q/s]\n"
     ]
    },
    {
     "name": "stdout",
     "output_type": "stream",
     "text": [
      "SignificanceResult(statistic=0.19822812846068658, pvalue=0.06102555232367203)\n",
      "\n",
      "lim2 70\n"
     ]
    },
    {
     "name": "stderr",
     "output_type": "stream",
     "text": [
      "100%|██████████| 43/43 [00:00<00:00, 809.28q/s]\n"
     ]
    },
    {
     "name": "stdout",
     "output_type": "stream",
     "text": [
      "SignificanceResult(statistic=0.19822812846068658, pvalue=0.06102555232367203)\n",
      "\n",
      "lim2 80\n"
     ]
    },
    {
     "name": "stderr",
     "output_type": "stream",
     "text": [
      "100%|██████████| 43/43 [00:00<00:00, 812.77q/s]\n"
     ]
    },
    {
     "name": "stdout",
     "output_type": "stream",
     "text": [
      "SignificanceResult(statistic=0.20265780730897007, pvalue=0.055470577997765856)\n",
      "\n",
      "lim2 90\n"
     ]
    },
    {
     "name": "stderr",
     "output_type": "stream",
     "text": [
      "100%|██████████| 43/43 [00:00<00:00, 897.12q/s]\n"
     ]
    },
    {
     "name": "stdout",
     "output_type": "stream",
     "text": [
      "SignificanceResult(statistic=0.20265780730897007, pvalue=0.055470577997765856)\n",
      "\n",
      "lim1 50\n",
      "lim2 10\n"
     ]
    },
    {
     "name": "stderr",
     "output_type": "stream",
     "text": [
      "100%|██████████| 43/43 [00:00<00:00, 732.06q/s]\n"
     ]
    },
    {
     "name": "stdout",
     "output_type": "stream",
     "text": [
      "SignificanceResult(statistic=0.21816168327796234, pvalue=0.039237464954529684)\n",
      "\n",
      "lim2 20\n"
     ]
    },
    {
     "name": "stderr",
     "output_type": "stream",
     "text": [
      "100%|██████████| 43/43 [00:00<00:00, 728.90q/s]\n"
     ]
    },
    {
     "name": "stdout",
     "output_type": "stream",
     "text": [
      "SignificanceResult(statistic=0.2336655592469546, pvalue=0.02723007466276913)\n",
      "\n",
      "lim2 30\n"
     ]
    },
    {
     "name": "stderr",
     "output_type": "stream",
     "text": [
      "100%|██████████| 43/43 [00:00<00:00, 729.46q/s]\n"
     ]
    },
    {
     "name": "stdout",
     "output_type": "stream",
     "text": [
      "SignificanceResult(statistic=0.21816168327796234, pvalue=0.039237464954529684)\n",
      "\n",
      "lim2 40\n"
     ]
    },
    {
     "name": "stderr",
     "output_type": "stream",
     "text": [
      "100%|██████████| 43/43 [00:00<00:00, 737.75q/s]\n"
     ]
    },
    {
     "name": "stdout",
     "output_type": "stream",
     "text": [
      "SignificanceResult(statistic=0.2070874861572536, pvalue=0.05034351393549388)\n",
      "\n",
      "lim2 50\n"
     ]
    },
    {
     "name": "stderr",
     "output_type": "stream",
     "text": [
      "100%|██████████| 43/43 [00:00<00:00, 752.48q/s]\n"
     ]
    },
    {
     "name": "stdout",
     "output_type": "stream",
     "text": [
      "SignificanceResult(statistic=0.20044296788482835, pvalue=0.058193013393482464)\n",
      "\n",
      "lim2 60\n"
     ]
    },
    {
     "name": "stderr",
     "output_type": "stream",
     "text": [
      "100%|██████████| 43/43 [00:00<00:00, 734.62q/s]\n"
     ]
    },
    {
     "name": "stdout",
     "output_type": "stream",
     "text": [
      "SignificanceResult(statistic=0.16057585825027684, pvalue=0.1291440320672913)\n",
      "\n",
      "lim2 70\n"
     ]
    },
    {
     "name": "stderr",
     "output_type": "stream",
     "text": [
      "100%|██████████| 43/43 [00:00<00:00, 739.12q/s]\n"
     ]
    },
    {
     "name": "stdout",
     "output_type": "stream",
     "text": [
      "SignificanceResult(statistic=0.18715393133997782, pvalue=0.07695128818374385)\n",
      "\n",
      "lim2 80\n"
     ]
    },
    {
     "name": "stderr",
     "output_type": "stream",
     "text": [
      "100%|██████████| 43/43 [00:00<00:00, 734.70q/s]\n"
     ]
    },
    {
     "name": "stdout",
     "output_type": "stream",
     "text": [
      "SignificanceResult(statistic=0.18715393133997782, pvalue=0.07695128818374385)\n",
      "\n",
      "lim2 90\n"
     ]
    },
    {
     "name": "stderr",
     "output_type": "stream",
     "text": [
      "100%|██████████| 43/43 [00:00<00:00, 737.90q/s]\n"
     ]
    },
    {
     "name": "stdout",
     "output_type": "stream",
     "text": [
      "SignificanceResult(statistic=0.19601328903654486, pvalue=0.06397135691589576)\n",
      "\n",
      "lim1 60\n",
      "lim2 10\n"
     ]
    },
    {
     "name": "stderr",
     "output_type": "stream",
     "text": [
      "100%|██████████| 43/43 [00:00<00:00, 738.32q/s]\n"
     ]
    },
    {
     "name": "stdout",
     "output_type": "stream",
     "text": [
      "SignificanceResult(statistic=0.20044296788482835, pvalue=0.058193013393482464)\n",
      "\n",
      "lim2 20\n"
     ]
    },
    {
     "name": "stderr",
     "output_type": "stream",
     "text": [
      "100%|██████████| 43/43 [00:00<00:00, 739.32q/s]\n"
     ]
    },
    {
     "name": "stdout",
     "output_type": "stream",
     "text": [
      "SignificanceResult(statistic=0.22480620155038758, pvalue=0.03362999632002421)\n",
      "\n",
      "lim2 30\n"
     ]
    },
    {
     "name": "stderr",
     "output_type": "stream",
     "text": [
      "100%|██████████| 43/43 [00:00<00:00, 740.83q/s]\n"
     ]
    },
    {
     "name": "stdout",
     "output_type": "stream",
     "text": [
      "SignificanceResult(statistic=0.19601328903654486, pvalue=0.06397135691589576)\n",
      "\n",
      "lim2 40\n"
     ]
    },
    {
     "name": "stderr",
     "output_type": "stream",
     "text": [
      "100%|██████████| 43/43 [00:00<00:00, 777.20q/s]\n"
     ]
    },
    {
     "name": "stdout",
     "output_type": "stream",
     "text": [
      "SignificanceResult(statistic=0.19822812846068658, pvalue=0.06102555232367203)\n",
      "\n",
      "lim2 50\n"
     ]
    },
    {
     "name": "stderr",
     "output_type": "stream",
     "text": [
      "100%|██████████| 43/43 [00:00<00:00, 805.49q/s]\n"
     ]
    },
    {
     "name": "stdout",
     "output_type": "stream",
     "text": [
      "SignificanceResult(statistic=0.16943521594684385, pvalue=0.10933056125598256)\n",
      "\n",
      "lim2 60\n"
     ]
    },
    {
     "name": "stderr",
     "output_type": "stream",
     "text": [
      "100%|██████████| 43/43 [00:00<00:00, 808.03q/s]\n"
     ]
    },
    {
     "name": "stdout",
     "output_type": "stream",
     "text": [
      "SignificanceResult(statistic=0.1627906976744186, pvalue=0.12394673344282209)\n",
      "\n",
      "lim2 70\n"
     ]
    },
    {
     "name": "stderr",
     "output_type": "stream",
     "text": [
      "100%|██████████| 43/43 [00:00<00:00, 806.11q/s]\n"
     ]
    },
    {
     "name": "stdout",
     "output_type": "stream",
     "text": [
      "SignificanceResult(statistic=0.17829457364341084, pvalue=0.09200155630483083)\n",
      "\n",
      "lim2 80\n"
     ]
    },
    {
     "name": "stderr",
     "output_type": "stream",
     "text": [
      "100%|██████████| 43/43 [00:00<00:00, 839.26q/s]\n"
     ]
    },
    {
     "name": "stdout",
     "output_type": "stream",
     "text": [
      "SignificanceResult(statistic=0.17165005537098557, pvalue=0.10477333682093702)\n",
      "\n",
      "lim2 90\n"
     ]
    },
    {
     "name": "stderr",
     "output_type": "stream",
     "text": [
      "100%|██████████| 43/43 [00:00<00:00, 920.59q/s]\n"
     ]
    },
    {
     "name": "stdout",
     "output_type": "stream",
     "text": [
      "SignificanceResult(statistic=0.17829457364341084, pvalue=0.09200155630483083)\n",
      "\n",
      "lim1 70\n",
      "lim2 10\n"
     ]
    },
    {
     "name": "stderr",
     "output_type": "stream",
     "text": [
      "100%|██████████| 43/43 [00:00<00:00, 808.55q/s]\n"
     ]
    },
    {
     "name": "stdout",
     "output_type": "stream",
     "text": [
      "SignificanceResult(statistic=0.22480620155038758, pvalue=0.03362999632002421)\n",
      "\n",
      "lim2 20\n"
     ]
    },
    {
     "name": "stderr",
     "output_type": "stream",
     "text": [
      "100%|██████████| 43/43 [00:00<00:00, 848.35q/s]\n"
     ]
    },
    {
     "name": "stdout",
     "output_type": "stream",
     "text": [
      "SignificanceResult(statistic=0.24916943521594684, pvalue=0.01853668656977206)\n",
      "\n",
      "lim2 30\n"
     ]
    },
    {
     "name": "stderr",
     "output_type": "stream",
     "text": [
      "100%|██████████| 43/43 [00:00<00:00, 874.77q/s]\n"
     ]
    },
    {
     "name": "stdout",
     "output_type": "stream",
     "text": [
      "SignificanceResult(statistic=0.21816168327796234, pvalue=0.039237464954529684)\n",
      "\n",
      "lim2 40\n"
     ]
    },
    {
     "name": "stderr",
     "output_type": "stream",
     "text": [
      "100%|██████████| 43/43 [00:00<00:00, 884.38q/s]\n"
     ]
    },
    {
     "name": "stdout",
     "output_type": "stream",
     "text": [
      "SignificanceResult(statistic=0.20930232558139533, pvalue=0.04793271426816844)\n",
      "\n",
      "lim2 50\n"
     ]
    },
    {
     "name": "stderr",
     "output_type": "stream",
     "text": [
      "100%|██████████| 43/43 [00:00<00:00, 747.22q/s]\n"
     ]
    },
    {
     "name": "stdout",
     "output_type": "stream",
     "text": [
      "SignificanceResult(statistic=0.18715393133997782, pvalue=0.07695128818374385)\n",
      "\n",
      "lim2 60\n"
     ]
    },
    {
     "name": "stderr",
     "output_type": "stream",
     "text": [
      "100%|██████████| 43/43 [00:00<00:00, 801.44q/s]\n"
     ]
    },
    {
     "name": "stdout",
     "output_type": "stream",
     "text": [
      "SignificanceResult(statistic=0.1760797342192691, pvalue=0.09611205744619103)\n",
      "\n",
      "lim2 70\n"
     ]
    },
    {
     "name": "stderr",
     "output_type": "stream",
     "text": [
      "100%|██████████| 43/43 [00:00<00:00, 943.27q/s]\n"
     ]
    },
    {
     "name": "stdout",
     "output_type": "stream",
     "text": [
      "SignificanceResult(statistic=0.19379844961240308, pvalue=0.06703361454097385)\n",
      "\n",
      "lim2 80\n"
     ]
    },
    {
     "name": "stderr",
     "output_type": "stream",
     "text": [
      "100%|██████████| 43/43 [00:00<00:00, 863.82q/s]\n"
     ]
    },
    {
     "name": "stdout",
     "output_type": "stream",
     "text": [
      "SignificanceResult(statistic=0.16943521594684385, pvalue=0.10933056125598256)\n",
      "\n",
      "lim2 90\n"
     ]
    },
    {
     "name": "stderr",
     "output_type": "stream",
     "text": [
      "100%|██████████| 43/43 [00:00<00:00, 764.64q/s]\n"
     ]
    },
    {
     "name": "stdout",
     "output_type": "stream",
     "text": [
      "SignificanceResult(statistic=0.19158361018826134, pvalue=0.07021553454588961)\n",
      "\n",
      "lim1 80\n",
      "lim2 10\n"
     ]
    },
    {
     "name": "stderr",
     "output_type": "stream",
     "text": [
      "100%|██████████| 43/43 [00:00<00:00, 818.91q/s]\n"
     ]
    },
    {
     "name": "stdout",
     "output_type": "stream",
     "text": [
      "SignificanceResult(statistic=0.22702104097452933, pvalue=0.0319199840249392)\n",
      "\n",
      "lim2 20\n"
     ]
    },
    {
     "name": "stderr",
     "output_type": "stream",
     "text": [
      "100%|██████████| 43/43 [00:00<00:00, 765.71q/s]\n"
     ]
    },
    {
     "name": "stdout",
     "output_type": "stream",
     "text": [
      "SignificanceResult(statistic=0.24695459579180506, pvalue=0.019606784919992522)\n",
      "\n",
      "lim2 30\n"
     ]
    },
    {
     "name": "stderr",
     "output_type": "stream",
     "text": [
      "100%|██████████| 43/43 [00:00<00:00, 796.16q/s]\n"
     ]
    },
    {
     "name": "stdout",
     "output_type": "stream",
     "text": [
      "SignificanceResult(statistic=0.2203765227021041, pvalue=0.03728599498237718)\n",
      "\n",
      "lim2 40\n"
     ]
    },
    {
     "name": "stderr",
     "output_type": "stream",
     "text": [
      "100%|██████████| 43/43 [00:00<00:00, 820.22q/s]\n"
     ]
    },
    {
     "name": "stdout",
     "output_type": "stream",
     "text": [
      "SignificanceResult(statistic=0.21151716500553708, pvalue=0.04561968148630561)\n",
      "\n",
      "lim2 50\n"
     ]
    },
    {
     "name": "stderr",
     "output_type": "stream",
     "text": [
      "100%|██████████| 43/43 [00:00<00:00, 784.50q/s]\n"
     ]
    },
    {
     "name": "stdout",
     "output_type": "stream",
     "text": [
      "SignificanceResult(statistic=0.20044296788482835, pvalue=0.058193013393482464)\n",
      "\n",
      "lim2 60\n"
     ]
    },
    {
     "name": "stderr",
     "output_type": "stream",
     "text": [
      "100%|██████████| 43/43 [00:00<00:00, 755.72q/s]\n"
     ]
    },
    {
     "name": "stdout",
     "output_type": "stream",
     "text": [
      "SignificanceResult(statistic=0.17386489479512734, pvalue=0.1003682399820881)\n",
      "\n",
      "lim2 70\n"
     ]
    },
    {
     "name": "stderr",
     "output_type": "stream",
     "text": [
      "100%|██████████| 43/43 [00:00<00:00, 882.82q/s]\n"
     ]
    },
    {
     "name": "stdout",
     "output_type": "stream",
     "text": [
      "SignificanceResult(statistic=0.17386489479512734, pvalue=0.1003682399820881)\n",
      "\n",
      "lim2 80\n"
     ]
    },
    {
     "name": "stderr",
     "output_type": "stream",
     "text": [
      "100%|██████████| 43/43 [00:00<00:00, 853.96q/s]\n"
     ]
    },
    {
     "name": "stdout",
     "output_type": "stream",
     "text": [
      "SignificanceResult(statistic=0.17386489479512734, pvalue=0.1003682399820881)\n",
      "\n",
      "lim2 90\n"
     ]
    },
    {
     "name": "stderr",
     "output_type": "stream",
     "text": [
      "100%|██████████| 43/43 [00:00<00:00, 860.61q/s]"
     ]
    },
    {
     "name": "stdout",
     "output_type": "stream",
     "text": [
      "SignificanceResult(statistic=0.19379844961240308, pvalue=0.06703361454097385)\n",
      "\n"
     ]
    },
    {
     "name": "stderr",
     "output_type": "stream",
     "text": [
      "\n"
     ]
    }
   ],
   "source": [
    "for lim1 in [10, 20, 30, 40, 50, 60, 70, 80]:\n",
    "    print(\"lim1 %d\" % lim1)\n",
    "    for lim2 in [10, 20, 30, 40, 50, 60, 70, 80, 90]:\n",
    "        print(\"lim2 %d\" % lim2)\n",
    "        adjusted_pair_ratio(combined_100, lim1, lim2, 100, 'AP(rel=2)@100', per_query_results)\n",
    "        print(\"\")"
   ]
  },
  {
   "cell_type": "markdown",
   "id": "8994bae1-9bdd-4346-836f-0d92ed5cbd31",
   "metadata": {},
   "source": [
    "### Top1(monoT5)"
   ]
  },
  {
   "cell_type": "markdown",
   "id": "9ea98dd7-0b8d-4f28-bb00-3096bef3298f",
   "metadata": {},
   "source": [
    "On top of our dense coherence-based predictors, we propose a baseline predictor on the supervised side. Below, we show how we obtain it."
   ]
  },
  {
   "cell_type": "markdown",
   "id": "effc1e22-ab8c-43e7-adcb-ce021e1b0d0b",
   "metadata": {},
   "source": [
    "First, install the pyterrier plugin for Mono and Duo T5 from https://github.com/terrierteam/pyterrier_t5."
   ]
  },
  {
   "cell_type": "code",
   "execution_count": null,
   "id": "3570edc3-f32e-4893-a1d2-45cbf2d23bb7",
   "metadata": {},
   "outputs": [],
   "source": [
    "pip install --upgrade git+https://github.com/terrierteam/pyterrier_t5.git"
   ]
  },
  {
   "cell_type": "code",
   "execution_count": 55,
   "id": "51c79a2c-4866-4dae-80c9-e2bee9c0fe4c",
   "metadata": {},
   "outputs": [],
   "source": [
    "from pyterrier_t5 import MonoT5ReRanker, DuoT5ReRanker"
   ]
  },
  {
   "cell_type": "code",
   "execution_count": 56,
   "id": "a83da666-ea5a-4b1a-b3aa-c82aa19332ee",
   "metadata": {},
   "outputs": [
    {
     "name": "stderr",
     "output_type": "stream",
     "text": [
      "You are using the default legacy behaviour of the <class 'transformers.models.t5.tokenization_t5.T5Tokenizer'>. This is expected, and simply means that the `legacy` (previous) behavior will be used so nothing changes for you. If you want to use the new behaviour, set `legacy=False`. This should only be set if you understand what it means, and thoroughly read the reason why this was added as explained in https://github.com/huggingface/transformers/pull/24565\n",
      "Special tokens have been added in the vocabulary, make sure the associated word embeddings are fine-tuned or trained.\n"
     ]
    }
   ],
   "source": [
    "monoT5 = MonoT5ReRanker()"
   ]
  },
  {
   "cell_type": "markdown",
   "id": "e92354bb-702d-4bed-953f-9ac78e44087b",
   "metadata": {},
   "source": [
    "Now, we update the pipeline by getting the document embeddings (first line). Then, in the second line, we define the cross-encoder pipeline for the proposed predictor."
   ]
  },
  {
   "cell_type": "code",
   "execution_count": 57,
   "id": "f2dfafbc-9b9b-49a3-8da0-63599c38a873",
   "metadata": {},
   "outputs": [],
   "source": [
    "new_pipe = retr_pipeline >> pt.apply.doc_embs(get_embs) >> pt.text.get_text(pt.get_dataset('irds:msmarco-passage'), 'text')\n",
    "cross_encoder_pipe = new_pipe %1 >> monoT5 >> pt.apply.qpp_monot5(lambda df: df[\"score\"])"
   ]
  },
  {
   "cell_type": "markdown",
   "id": "e26cb1e0-d4f4-4ae4-9bee-3c1e1ec0746f",
   "metadata": {},
   "source": [
    "We then transform the queries to get the final results, and we merge with the evaluation metrics to get the final correlation."
   ]
  },
  {
   "cell_type": "code",
   "execution_count": 58,
   "id": "b401038e-6ec1-4b75-b02b-15196ab2a076",
   "metadata": {},
   "outputs": [
    {
     "name": "stderr",
     "output_type": "stream",
     "text": [
      "monoT5: 100%|██████████| 11/11 [00:08<00:00,  1.33batches/s]\n",
      "monoT5: 100%|██████████| 14/14 [00:11<00:00,  1.17batches/s]\n"
     ]
    }
   ],
   "source": [
    "allres_t5 = cross_encoder_pipe.transform(test_topics)\n",
    "allres_t5_2020 = cross_encoder_pipe.transform(test_topics_2020)"
   ]
  },
  {
   "cell_type": "code",
   "execution_count": 59,
   "id": "2408d432-96c9-4af1-ba6e-54b0e779b99f",
   "metadata": {},
   "outputs": [
    {
     "name": "stdout",
     "output_type": "stream",
     "text": [
      "SignificanceResult(statistic=0.058693244739756366, pvalue=0.5791222556173692)\n"
     ]
    }
   ],
   "source": [
    "merged = allres_t5.merge(per_query_results)\n",
    "merged = merged[merged.measure=='AP(rel=2)@100']\n",
    "corr_kendall = kendalltau(merged['value'], merged['qpp_monot5'])\n",
    "print(corr_kendall)"
   ]
  },
  {
   "cell_type": "code",
   "execution_count": 60,
   "id": "74759048-26ed-474c-8b3f-26f0ede54ea7",
   "metadata": {},
   "outputs": [
    {
     "name": "stdout",
     "output_type": "stream",
     "text": [
      "SignificanceResult(statistic=0.27962252669275495, pvalue=0.0028428020282334435)\n"
     ]
    }
   ],
   "source": [
    "merged = allres_t5_2020.merge(per_query_results_2020)\n",
    "merged = merged[merged.measure=='AP(rel=2)@100']\n",
    "corr_kendall = kendalltau(merged['value'], merged['qpp_monot5'])\n",
    "#corr_pearson = stats.pearsonr(merged['value'], merged['qpp_monot5'])[0]\n",
    "#corr_spearman = spearmanr(merged['value'], merged['qpp_monot5']).correlation\n",
    "print(corr_kendall)"
   ]
  },
  {
   "cell_type": "markdown",
   "id": "7a2d57ff-bc91-4970-b280-593b9ace4583",
   "metadata": {},
   "source": [
    "Simply uncomment the corresponding lines to get the pearson and spearman's correlations."
   ]
  },
  {
   "cell_type": "code",
   "execution_count": null,
   "id": "bcbd952f-ef6e-49b6-93c5-4da1355fe7e4",
   "metadata": {},
   "outputs": [],
   "source": []
  }
 ],
 "metadata": {
  "kernelspec": {
   "display_name": "Python [conda env:genir]",
   "language": "python",
   "name": "conda-env-genir-py"
  },
  "language_info": {
   "codemirror_mode": {
    "name": "ipython",
    "version": 3
   },
   "file_extension": ".py",
   "mimetype": "text/x-python",
   "name": "python",
   "nbconvert_exporter": "python",
   "pygments_lexer": "ipython3",
   "version": "3.9.19"
  }
 },
 "nbformat": 4,
 "nbformat_minor": 5
}
